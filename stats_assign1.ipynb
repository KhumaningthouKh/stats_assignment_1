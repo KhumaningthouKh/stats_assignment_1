{
 "cells": [
  {
   "cell_type": "markdown",
   "metadata": {},
   "source": [
    "PROBLEM STATEMENT:  code to call functions which will play the role of tables for z, t, chi-square and F distributions, namely, for z, write a code segment that will take (a) z0 as input and give P(z<z0) as output; (b) alpha as input and give z0 as output where P(z<z0)=alpha. Same for the rest, except it will take degree(s) of freedom (dof) also as input.\n"
   ]
  },
  {
   "cell_type": "code",
   "execution_count": 2,
   "metadata": {},
   "outputs": [],
   "source": [
    "import pandas as pd\n",
    "z_data=pd.read_excel(r'zdist_table.xlsx')\n",
    "z_table=pd.DataFrame(data=z_data)"
   ]
  },
  {
   "cell_type": "code",
   "execution_count": 9,
   "metadata": {},
   "outputs": [
    {
     "name": "stdin",
     "output_type": "stream",
     "text": [
      "enter the first part(in the format d.d or -d.d):\n",
      " -2.1\n",
      "enter the first part(in the format 0.0d):\n",
      " 0.03\n"
     ]
    },
    {
     "name": "stdout",
     "output_type": "stream",
     "text": [
      "THe value of P(z<-2.13) is 0.01659\n"
     ]
    }
   ],
   "source": [
    "#a) take z0 as input and give P(z<z0) as output\n",
    "first_part = float(input('enter the first part(in the format d.d or -d.d):\\n'))\n",
    "second_part = float(input('enter the first part(in the format 0.0d):\\n'))\n",
    "#turning first column to list to get index\n",
    "first_columnlist= z_table['z'].tolist()\n",
    "\n",
    "first_partindex = first_columnlist.index(first_part)\n",
    "\n",
    "#combining first_part and second_part to get z0\n",
    "if first_part<0:\n",
    "    z0=first_part-second_part\n",
    "else:\n",
    "    z0=first_part+second_part\n",
    "\n",
    "print('THe value of P(z<'+str(z0)+') is '+str(z_table.at[first_partindex,second_part]))"
   ]
  },
  {
   "cell_type": "code",
   "execution_count": 12,
   "metadata": {},
   "outputs": [
    {
     "name": "stdin",
     "output_type": "stream",
     "text": [
      "enter the degree of freedom(1-49):\n",
      " 29\n"
     ]
    },
    {
     "name": "stdout",
     "output_type": "stream",
     "text": [
      "choose the alpha value from the list\n",
      " Index(['DF', 0.995, 0.975, 0.2, 0.1, 0.05, 0.025, 0.02, 0.01, 0.005, 0.002,\n",
      "       0.001],\n",
      "      dtype='object')\n"
     ]
    },
    {
     "name": "stdin",
     "output_type": "stream",
     "text": [
      "enter the alpha value:\n",
      " 0.05\n"
     ]
    },
    {
     "name": "stdout",
     "output_type": "stream",
     "text": [
      "The value of z0 where P(z<z0) is 0.05 with degrees of freedom 29is42.557\n"
     ]
    }
   ],
   "source": [
    "#for chisquare get dof and alpha and give z0 as output where P(z<z0)=alpha\n",
    "chi_data=pd.read_excel(r'chisquaretable.xlsx')\n",
    "chi_table=pd.DataFrame(data=chi_data)\n",
    "\n",
    "\n",
    "dof_chi = int(input('enter the degree of freedom(1-49):\\n'))\n",
    "\n",
    "print('choose the alpha value from the list\\n',chi_table.columns)\n",
    "\n",
    "alpha_chi = float(input('enter the alpha value:\\n'))\n",
    "\n",
    "print('The value of z0 where P(z<z0) is '+str(alpha_chi)+' with degrees of freedom '+str(dof_chi)+' is '+str(chi_table.at[dof_chi-1,alpha_chi]))"
   ]
  },
  {
   "cell_type": "code",
   "execution_count": 13,
   "metadata": {},
   "outputs": [
    {
     "name": "stdin",
     "output_type": "stream",
     "text": [
      "enter the degree of freedom(1-30):\n",
      " 30\n"
     ]
    },
    {
     "name": "stdout",
     "output_type": "stream",
     "text": [
      "choose the alpha value from the list\n",
      " Index(['df', 0.1, 0.05, 0.025, 0.01, 0.005, 0.001, 0.0005], dtype='object')\n"
     ]
    },
    {
     "name": "stdin",
     "output_type": "stream",
     "text": [
      "enter the alpha value:\n",
      " 0.0005\n"
     ]
    },
    {
     "name": "stdout",
     "output_type": "stream",
     "text": [
      "The value of z0 where P(z<z0) is 0.0005 with degrees of freedom 30 is 3.646\n"
     ]
    }
   ],
   "source": [
    "#for t_table get dof and alpha and give z0 as output where P(z<z0)=alpha\n",
    "t_data=pd.read_excel(r'tdist_onetail.xlsx')\n",
    "t_table=pd.DataFrame(data=t_data)\n",
    "\n",
    "\n",
    "dof_t = int(input('enter the degree of freedom(1-30):\\n'))\n",
    "print('choose the alpha value from the list\\n',t_table.columns)\n",
    "alpha_t = float(input('enter the alpha value:\\n'))\n",
    "print('The value of z0 where P(z<z0) is '+str(alpha_t)+' with degrees of freedom '+str(dof_t)+' is '+str(t_table.at[dof_t-1,alpha_t]))"
   ]
  },
  {
   "cell_type": "code",
   "execution_count": null,
   "metadata": {},
   "outputs": [],
   "source": [
    "#for ftable first get the probability where we want the f value\n",
    "\n",
    "p_value=float(input('enter the value of p form(0.02, 0.05, 0.10)\\n'))\n",
    "\n",
    "\n",
    "#for ftable at P=0.02 get dof1 and d0f2 \n",
    "f_data1=pd.read_excel(r'ftable_p0.02.xlsx')\n",
    "f_table1=pd.DataFrame(data=f_data1)\n",
    "\n",
    "#for ftable at P=0.05 get dof1 and d0f2 \n",
    "f_data2=pd.read_excel(r'ftable_p0.05.xlsx')\n",
    "f_table2=pd.DataFrame(data=f_data2)\n",
    "\n",
    "#for ftable at P=0.10 get dof1 and d0f2 \n",
    "f_data3=pd.read_excel(r'ftable_p0.10.xlsx')\n",
    "f_table3=pd.DataFrame(data=f_data3)\n",
    "\n",
    "print('choose the dof values from the list\\n',f_table1.columns)\n",
    "\n",
    "if p_value==0.02:\n",
    "    dof1 = int(input('enter the first degree of freedom from among the list:\\n'))\n",
    "    dof2 = int(input('enter the second degree of freedom from among the list:\\n'))\n",
    "    \n",
    "    dof1_list= f_table1['DF'].tolist()\n",
    "    dof1_index=dof1_list.index(dof1)\n",
    "    \n",
    "    \n",
    "    print('fvalue at p= '+str(p_value)+' with deg of freedom '+str(dof1)+ ' '+str(dof2)+' is '+str(f_table1.at[dof1_index,dof2]))\n",
    "elif p_value==0.05:\n",
    "    dof1 = int(input('enter the first degree of freedom from among the list:\\n'))\n",
    "    dof2 = int(input('enter the second degree of freedom from among the list:\\n'))\n",
    "    \n",
    "    dof1_list= f_table2['DF'].tolist()\n",
    "    dof1_index=dof1_list.index(dof1)\n",
    "    \n",
    "    \n",
    "    print('fvalue at p= '+str(p_value)+' with deg of freedom '+str(dof1)+ ' '+str(dof2)+' is '+str(f_table2.at[dof1_index,dof2]))\n",
    "else:\n",
    "    dof1 = int(input('enter the first degree of freedom from among the list:\\n'))\n",
    "    dof2 = int(input('enter the second degree of freedom from among the list:\\n'))\n",
    "    \n",
    "    dof1_list= f_table3['DF'].tolist()\n",
    "    dof1_index=dof1_list.index(dof1)\n",
    "    \n",
    "    \n",
    "    print('fvalue at p= '+str(p_value)+' with deg of freedom '+str(dof1)+ ' '+str(dof2)+' is '+str(f_table3.at[dof1_index,dof2]))\n"
   ]
  },
  {
   "cell_type": "code",
   "execution_count": null,
   "metadata": {},
   "outputs": [],
   "source": []
  }
 ],
 "metadata": {
  "kernelspec": {
   "display_name": "Python 3",
   "language": "python",
   "name": "python3"
  },
  "language_info": {
   "codemirror_mode": {
    "name": "ipython",
    "version": 3
   },
   "file_extension": ".py",
   "mimetype": "text/x-python",
   "name": "python",
   "nbconvert_exporter": "python",
   "pygments_lexer": "ipython3",
   "version": "3.7.4"
  }
 },
 "nbformat": 4,
 "nbformat_minor": 4
}
